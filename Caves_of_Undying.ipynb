{
  "nbformat": 4,
  "nbformat_minor": 0,
  "metadata": {
    "colab": {
      "provenance": [],
      "authorship_tag": "ABX9TyP27yH56BqdTMye1DjG55EO",
      "include_colab_link": true
    },
    "kernelspec": {
      "name": "python3",
      "display_name": "Python 3"
    },
    "language_info": {
      "name": "python"
    }
  },
  "cells": [
    {
      "cell_type": "markdown",
      "metadata": {
        "id": "view-in-github",
        "colab_type": "text"
      },
      "source": [
        "<a href=\"https://colab.research.google.com/github/RedPandaWinter/Start/blob/main/Caves_of_Undying.ipynb\" target=\"_parent\"><img src=\"https://colab.research.google.com/assets/colab-badge.svg\" alt=\"Open In Colab\"/></a>"
      ]
    },
    {
      "cell_type": "code",
      "execution_count": 46,
      "metadata": {
        "colab": {
          "base_uri": "https://localhost:8080/"
        },
        "id": "16UbqAJzB1JX",
        "outputId": "c7951ee7-5136-442d-850a-c28c39ffb089"
      },
      "outputs": [
        {
          "output_type": "stream",
          "name": "stdout",
          "text": [
            "As you slowly enter the 'Cave of Undying' you feel an ominous presence approaching...\n",
            "A small kobold runs at you swinging with his short sword\n",
            "the kobolds short sword slashes at your skin dealing 6.5 damage, you wince in pain!\n",
            "You have 93.5 health remaining...\n",
            "As your still wrealing from the pain of the first attack the kobold attacks again\n",
            "His short sword hits you're arm, he deals 37.5 damage to you!\n",
            "You have 56.0 health remaining...\n"
          ]
        },
        {
          "output_type": "execute_result",
          "data": {
            "text/plain": [
              "(180.0, 20.0)"
            ]
          },
          "metadata": {},
          "execution_count": 46
        }
      ],
      "source": [
        "\n",
        "health = 100\n",
        "\n",
        "def light_attack_sword(health, attack_damage):\n",
        "  light_attack = attack_damage * 0.25\n",
        "  new_health = health - light_attack\n",
        "  return light_attack, new_health\n",
        "\n",
        "light_attack, new_health = light_attack_sword(health, 26)\n",
        "print(\"As you slowly enter the 'Cave of Undying' you feel an ominous presence approaching...\")\n",
        "print(\"A small kobold runs at you swinging with his short sword\")\n",
        "print(f\"the kobolds short sword slashes at your skin dealing {light_attack} damage, you wince in pain!\")\n",
        "print(f\"You have {new_health} health remaining...\")\n",
        "\n",
        "def heavy_attack_sword(health, attack_damage):\n",
        "  heavy_attack = attack_damage * 0.75\n",
        "  new_health = health - heavy_attack\n",
        "  return heavy_attack, new_health\n",
        "\n",
        "heavy_attack, new_health = heavy_attack_sword(new_health, 50)\n",
        "print(\"As your still wrealing from the pain of the first attack the kobold attacks again\")\n",
        "print(f\"His short sword hits you're arm, he deals {heavy_attack} damage to you!\")\n",
        "print(f\"You have {new_health} health remaining...\")\n",
        "\n"
      ]
    },
    {
      "cell_type": "code",
      "source": [
        "# prompt: print hello world using rot13\n",
        "\n",
        "import codecs\n",
        "\n",
        "def rot13(text):\n",
        "    return codecs.encode(text, 'rot_13')\n",
        "\n",
        "print(rot13(\"hello world\"))"
      ],
      "metadata": {
        "colab": {
          "base_uri": "https://localhost:8080/"
        },
        "id": "ePHeXFArKW1l",
        "outputId": "9bf310ab-eb1f-493c-dfb2-383b12c9ed75"
      },
      "execution_count": 47,
      "outputs": [
        {
          "output_type": "stream",
          "name": "stdout",
          "text": [
            "uryyb jbeyq\n"
          ]
        }
      ]
    }
  ]
}