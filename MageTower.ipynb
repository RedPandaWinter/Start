{
  "nbformat": 4,
  "nbformat_minor": 0,
  "metadata": {
    "colab": {
      "provenance": [],
      "authorship_tag": "ABX9TyON6x+wGpyw4p3b7idSNpha",
      "include_colab_link": true
    },
    "kernelspec": {
      "name": "python3",
      "display_name": "Python 3"
    },
    "language_info": {
      "name": "python"
    }
  },
  "cells": [
    {
      "cell_type": "markdown",
      "metadata": {
        "id": "view-in-github",
        "colab_type": "text"
      },
      "source": [
        "<a href=\"https://colab.research.google.com/github/RedPandaWinter/Start/blob/main/MageTower.ipynb\" target=\"_parent\"><img src=\"https://colab.research.google.com/assets/colab-badge.svg\" alt=\"Open In Colab\"/></a>"
      ]
    },
    {
      "cell_type": "code",
      "execution_count": 69,
      "metadata": {
        "colab": {
          "base_uri": "https://localhost:8080/"
        },
        "id": "0Fx3hJikVMlM",
        "outputId": "63ffac0c-e6d6-4495-9eea-d4fa12953d8e"
      },
      "outputs": [
        {
          "output_type": "stream",
          "name": "stdout",
          "text": [
            "You have 100 health and 100 mana remaining... \n",
            "Entering the Mage's tower you are confronted by skeletal guards protecting the inner workings of the late mad mage Aribel.\n",
            "you attack first, you decide to cast lighting strike dealing 25 damage!\n",
            "the skeletal guard has 75 remaining!\n",
            "||||||||||||||||||||||||||||||||||||||||||||||||||||||||||||||||||||||||||||||||||||||||||||||||||||||||||||||||||||||||||\n",
            "\n",
            "you have 100 health and 80 mana remaining and the skeletal guard has 75 health remaining!\n",
            "the skeletal guard rattles at you, he attacks!\n",
            "slashing his sword across your chest dealing 10 damage!\n",
            "you have 90 health and 80 mana remaining!\n",
            "||||||||||||||||||||||||||||||||||||||||||||||||||||||||||||||||||||||||||||||||||||||||||||||||||||||||||||||||||||||||||\n",
            "\n",
            "You cast fireball at the skeletal guard making him take 50 damage!\n",
            "flames burning off the remaining flesh still clinging to the bones, you can smell rotting flesh fill your nose\n",
            "the skeletal guard has 25 health remaining!\n"
          ]
        }
      ],
      "source": [
        "player_health = 100\n",
        "mana = 100\n",
        "\n",
        "def cast_lightning(mana_cost, lightning_damage):\n",
        "  new_mana = mana - mana_cost\n",
        "  new_health = health - lightning_damage\n",
        "  return new_mana, new_health\n",
        "\n",
        "def cast_fireball(mana_cost, fire_damage):\n",
        "  new_mana = mana - mana_cost\n",
        "  new_health = health - fire_damage\n",
        "  return new_mana, new_health\n",
        "\n",
        "def cast_curse(mana_cost, curse_damage):\n",
        "  new_mana = mana - mana_cost\n",
        "  new_health = health - curse_damage * 1.5\n",
        "  return new_mana, new_health\n",
        "\n",
        "skeletal_guard_health = 100\n",
        "\n",
        "def attack_skeletal_guard(damage):\n",
        "  new_health = skeletal_guard_health - damage\n",
        "  return new_health\n",
        "\n",
        "def sword_attack(sword_attack_damage):\n",
        "  new_player_health = player_health - sword_attack_damage\n",
        "  return new_player_health\n",
        "\n",
        "new_mana, new_health = cast_lightning(20, 25)\n",
        "lightning_damage = 25\n",
        "lightning_mana_cost = 20\n",
        "sword_attack_damage = 10\n",
        "fireball_damage = 50\n",
        "fireball_mana_cost = 30\n",
        "curse_damage = 26\n",
        "curse_mana_cost = 15\n",
        "\n",
        "print(f\"You have {player_health} health and {mana} mana remaining... \")\n",
        "\n",
        "print(\"Entering the Mage's tower you are confronted by skeletal guards protecting the inner workings of the late mad mage Aribel.\")\n",
        "print(f\"you attack first, you decide to cast lighting strike dealing {lightning_damage} damage!\")\n",
        "print(f\"the skeletal guard has {attack_skeletal_guard(lightning_damage)} remaining!\")\n",
        "\n",
        "print(\"||||||||||||||||||||||||||||||||||||||||||||||||||||||||||||||||||||||||||||||||||||||||||||||||||||||||||||||||||||||||||\")\n",
        "new_player_health = sword_attack(sword_attack_damage)\n",
        "new_skeletal_guard_health = attack_skeletal_guard(lightning_damage)\n",
        "\n",
        "print(\"\")\n",
        "print(f\"you have {player_health} health and {new_mana} mana remaining and the skeletal guard has {new_skeletal_guard_health} health remaining!\")\n",
        "\n",
        "print(\"the skeletal guard rattles at you, he attacks!\")\n",
        "print(f\"slashing his sword across your chest dealing {sword_attack_damage} damage!\")\n",
        "print(f\"you have {new_player_health} health and {new_mana} mana remaining!\")\n",
        "\n",
        "print(\"||||||||||||||||||||||||||||||||||||||||||||||||||||||||||||||||||||||||||||||||||||||||||||||||||||||||||||||||||||||||||\")\n",
        "\n",
        "print(\"\")\n",
        "print(f\"You cast fireball at the skeletal guard making him take {fireball_damage} damage!\")\n",
        "print(\"flames burning off the remaining flesh still clinging to the bones, you can smell rotting flesh fill your nose\")\n",
        "print(f\"the skeletal guard has {new_skeletal_guard_health - fireball_damage} health remaining!\")\n",
        "\n",
        "print(\"||||||||||||||||||||||||||||||||||||||||||||||||||||||||||||||||||||||||||||||||||||||||||||||||||||||||||||||||||||||||||\")\n",
        "print(\"\")\n"
      ]
    },
    {
      "cell_type": "code",
      "source": [],
      "metadata": {
        "id": "KG_8fBlljziF"
      },
      "execution_count": null,
      "outputs": []
    }
  ]
}